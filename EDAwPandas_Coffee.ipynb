{
 "cells": [
  {
   "cell_type": "markdown",
   "metadata": {},
   "source": [
    "**Exploratory Data Analysis with Pandas**\n",
    "\n",
    "**Allison Lee**\n",
    "\n",
    "This is an exercise I have done to demonstrate EDA with Pandas on a simple \"coffee\" dataset. The dataset contains individuals' rankings of several different coffee shops. This notebook explores the data, deals with missing values, and does some preliminary visualization. "
   ]
  },
  {
   "cell_type": "code",
   "execution_count": 90,
   "metadata": {},
   "outputs": [],
   "source": [
    "import pandas as pd\n",
    "import numpy as np\n",
    "import matplotlib.pyplot as plt\n",
    "%matplotlib inline"
   ]
  },
  {
   "cell_type": "markdown",
   "metadata": {},
   "source": [
    "First, we import the dataset, and then take a look at head and tail to make sure the data loaded correctly."
   ]
  },
  {
   "cell_type": "code",
   "execution_count": 111,
   "metadata": {},
   "outputs": [],
   "source": [
    "coffee=pd.read_csv('datasets/coffee-preferences.csv')"
   ]
  },
  {
   "cell_type": "code",
   "execution_count": 112,
   "metadata": {},
   "outputs": [
    {
     "data": {
      "text/html": [
       "<div>\n",
       "<style scoped>\n",
       "    .dataframe tbody tr th:only-of-type {\n",
       "        vertical-align: middle;\n",
       "    }\n",
       "\n",
       "    .dataframe tbody tr th {\n",
       "        vertical-align: top;\n",
       "    }\n",
       "\n",
       "    .dataframe thead th {\n",
       "        text-align: right;\n",
       "    }\n",
       "</style>\n",
       "<table border=\"1\" class=\"dataframe\">\n",
       "  <thead>\n",
       "    <tr style=\"text-align: right;\">\n",
       "      <th></th>\n",
       "      <th>Timestamp</th>\n",
       "      <th>Name</th>\n",
       "      <th>Starbucks</th>\n",
       "      <th>PhilzCoffee</th>\n",
       "      <th>BlueBottleCoffee</th>\n",
       "      <th>PeetsTea</th>\n",
       "      <th>CaffeTrieste</th>\n",
       "      <th>GrandCoffee</th>\n",
       "      <th>RitualCoffee</th>\n",
       "      <th>FourBarrel</th>\n",
       "      <th>WorkshopCafe</th>\n",
       "    </tr>\n",
       "  </thead>\n",
       "  <tbody>\n",
       "    <tr>\n",
       "      <th>0</th>\n",
       "      <td>3/17/2015 18:37:58</td>\n",
       "      <td>Alison</td>\n",
       "      <td>3</td>\n",
       "      <td>5</td>\n",
       "      <td>4.0</td>\n",
       "      <td>3.0</td>\n",
       "      <td>NaN</td>\n",
       "      <td>NaN</td>\n",
       "      <td>5.0</td>\n",
       "      <td>5.0</td>\n",
       "      <td>NaN</td>\n",
       "    </tr>\n",
       "    <tr>\n",
       "      <th>1</th>\n",
       "      <td>3/17/2015 18:38:09</td>\n",
       "      <td>April</td>\n",
       "      <td>4</td>\n",
       "      <td>5</td>\n",
       "      <td>5.0</td>\n",
       "      <td>3.0</td>\n",
       "      <td>NaN</td>\n",
       "      <td>NaN</td>\n",
       "      <td>3.0</td>\n",
       "      <td>NaN</td>\n",
       "      <td>5.0</td>\n",
       "    </tr>\n",
       "    <tr>\n",
       "      <th>2</th>\n",
       "      <td>3/17/2015 18:38:25</td>\n",
       "      <td>Vijay</td>\n",
       "      <td>3</td>\n",
       "      <td>5</td>\n",
       "      <td>5.0</td>\n",
       "      <td>5.0</td>\n",
       "      <td>3.0</td>\n",
       "      <td>2.0</td>\n",
       "      <td>1.0</td>\n",
       "      <td>1.0</td>\n",
       "      <td>1.0</td>\n",
       "    </tr>\n",
       "    <tr>\n",
       "      <th>3</th>\n",
       "      <td>3/17/2015 18:38:28</td>\n",
       "      <td>Vanessa</td>\n",
       "      <td>1</td>\n",
       "      <td>5</td>\n",
       "      <td>5.0</td>\n",
       "      <td>2.0</td>\n",
       "      <td>NaN</td>\n",
       "      <td>NaN</td>\n",
       "      <td>3.0</td>\n",
       "      <td>2.0</td>\n",
       "      <td>3.0</td>\n",
       "    </tr>\n",
       "    <tr>\n",
       "      <th>4</th>\n",
       "      <td>3/17/2015 18:38:46</td>\n",
       "      <td>Isabel</td>\n",
       "      <td>1</td>\n",
       "      <td>4</td>\n",
       "      <td>4.0</td>\n",
       "      <td>2.0</td>\n",
       "      <td>4.0</td>\n",
       "      <td>NaN</td>\n",
       "      <td>4.0</td>\n",
       "      <td>4.0</td>\n",
       "      <td>NaN</td>\n",
       "    </tr>\n",
       "  </tbody>\n",
       "</table>\n",
       "</div>"
      ],
      "text/plain": [
       "            Timestamp     Name  Starbucks  PhilzCoffee  BlueBottleCoffee  \\\n",
       "0  3/17/2015 18:37:58   Alison          3            5               4.0   \n",
       "1  3/17/2015 18:38:09    April          4            5               5.0   \n",
       "2  3/17/2015 18:38:25    Vijay          3            5               5.0   \n",
       "3  3/17/2015 18:38:28  Vanessa          1            5               5.0   \n",
       "4  3/17/2015 18:38:46   Isabel          1            4               4.0   \n",
       "\n",
       "   PeetsTea  CaffeTrieste  GrandCoffee  RitualCoffee  FourBarrel  WorkshopCafe  \n",
       "0       3.0           NaN          NaN           5.0         5.0           NaN  \n",
       "1       3.0           NaN          NaN           3.0         NaN           5.0  \n",
       "2       5.0           3.0          2.0           1.0         1.0           1.0  \n",
       "3       2.0           NaN          NaN           3.0         2.0           3.0  \n",
       "4       2.0           4.0          NaN           4.0         4.0           NaN  "
      ]
     },
     "execution_count": 112,
     "metadata": {},
     "output_type": "execute_result"
    }
   ],
   "source": [
    "coffee.head()"
   ]
  },
  {
   "cell_type": "code",
   "execution_count": 93,
   "metadata": {},
   "outputs": [
    {
     "data": {
      "text/html": [
       "<div>\n",
       "<style scoped>\n",
       "    .dataframe tbody tr th:only-of-type {\n",
       "        vertical-align: middle;\n",
       "    }\n",
       "\n",
       "    .dataframe tbody tr th {\n",
       "        vertical-align: top;\n",
       "    }\n",
       "\n",
       "    .dataframe thead th {\n",
       "        text-align: right;\n",
       "    }\n",
       "</style>\n",
       "<table border=\"1\" class=\"dataframe\">\n",
       "  <thead>\n",
       "    <tr style=\"text-align: right;\">\n",
       "      <th></th>\n",
       "      <th>Timestamp</th>\n",
       "      <th>Name</th>\n",
       "      <th>Starbucks</th>\n",
       "      <th>PhilzCoffee</th>\n",
       "      <th>BlueBottleCoffee</th>\n",
       "      <th>PeetsTea</th>\n",
       "      <th>CaffeTrieste</th>\n",
       "      <th>GrandCoffee</th>\n",
       "      <th>RitualCoffee</th>\n",
       "      <th>FourBarrel</th>\n",
       "      <th>WorkshopCafe</th>\n",
       "    </tr>\n",
       "  </thead>\n",
       "  <tbody>\n",
       "    <tr>\n",
       "      <th>15</th>\n",
       "      <td>3/17/2015 18:40:49</td>\n",
       "      <td>Markus</td>\n",
       "      <td>3</td>\n",
       "      <td>5</td>\n",
       "      <td>NaN</td>\n",
       "      <td>3.0</td>\n",
       "      <td>NaN</td>\n",
       "      <td>NaN</td>\n",
       "      <td>4.0</td>\n",
       "      <td>NaN</td>\n",
       "      <td>NaN</td>\n",
       "    </tr>\n",
       "    <tr>\n",
       "      <th>16</th>\n",
       "      <td>3/17/2015 18:41:18</td>\n",
       "      <td>Otto</td>\n",
       "      <td>4</td>\n",
       "      <td>2</td>\n",
       "      <td>2.0</td>\n",
       "      <td>5.0</td>\n",
       "      <td>NaN</td>\n",
       "      <td>NaN</td>\n",
       "      <td>3.0</td>\n",
       "      <td>3.0</td>\n",
       "      <td>3.0</td>\n",
       "    </tr>\n",
       "    <tr>\n",
       "      <th>17</th>\n",
       "      <td>3/17/2015 18:41:23</td>\n",
       "      <td>Alessandro</td>\n",
       "      <td>1</td>\n",
       "      <td>5</td>\n",
       "      <td>3.0</td>\n",
       "      <td>2.0</td>\n",
       "      <td>NaN</td>\n",
       "      <td>NaN</td>\n",
       "      <td>4.0</td>\n",
       "      <td>3.0</td>\n",
       "      <td>NaN</td>\n",
       "    </tr>\n",
       "    <tr>\n",
       "      <th>18</th>\n",
       "      <td>3/17/2015 18:41:35</td>\n",
       "      <td>Rocky</td>\n",
       "      <td>3</td>\n",
       "      <td>5</td>\n",
       "      <td>4.0</td>\n",
       "      <td>3.0</td>\n",
       "      <td>3.0</td>\n",
       "      <td>3.0</td>\n",
       "      <td>4.0</td>\n",
       "      <td>4.0</td>\n",
       "      <td>3.0</td>\n",
       "    </tr>\n",
       "    <tr>\n",
       "      <th>19</th>\n",
       "      <td>3/17/2015 18:42:01</td>\n",
       "      <td>Cheong-tseng</td>\n",
       "      <td>3</td>\n",
       "      <td>1</td>\n",
       "      <td>NaN</td>\n",
       "      <td>NaN</td>\n",
       "      <td>NaN</td>\n",
       "      <td>NaN</td>\n",
       "      <td>4.0</td>\n",
       "      <td>NaN</td>\n",
       "      <td>NaN</td>\n",
       "    </tr>\n",
       "  </tbody>\n",
       "</table>\n",
       "</div>"
      ],
      "text/plain": [
       "             Timestamp          Name  Starbucks  PhilzCoffee  \\\n",
       "15  3/17/2015 18:40:49        Markus          3            5   \n",
       "16  3/17/2015 18:41:18          Otto          4            2   \n",
       "17  3/17/2015 18:41:23    Alessandro          1            5   \n",
       "18  3/17/2015 18:41:35         Rocky          3            5   \n",
       "19  3/17/2015 18:42:01  Cheong-tseng          3            1   \n",
       "\n",
       "    BlueBottleCoffee  PeetsTea  CaffeTrieste  GrandCoffee  RitualCoffee  \\\n",
       "15               NaN       3.0           NaN          NaN           4.0   \n",
       "16               2.0       5.0           NaN          NaN           3.0   \n",
       "17               3.0       2.0           NaN          NaN           4.0   \n",
       "18               4.0       3.0           3.0          3.0           4.0   \n",
       "19               NaN       NaN           NaN          NaN           4.0   \n",
       "\n",
       "    FourBarrel  WorkshopCafe  \n",
       "15         NaN           NaN  \n",
       "16         3.0           3.0  \n",
       "17         3.0           NaN  \n",
       "18         4.0           3.0  \n",
       "19         NaN           NaN  "
      ]
     },
     "execution_count": 93,
     "metadata": {},
     "output_type": "execute_result"
    }
   ],
   "source": [
    "coffee.tail()"
   ]
  },
  {
   "cell_type": "markdown",
   "metadata": {},
   "source": [
    "On first glance, it appears this is a relatively simple and small dataset, and the biggest challenge will be \n",
    "deciding what to do with the null values. We see from below that there are only 20 rows, or 19 rows of respondent data points--a very small sample. From columns, we can see that nine coffee shops were evaluated. The **objective** of this analysis is to understand which coffee shop was ranked the most popular, and which the least, given this data. "
   ]
  },
  {
   "cell_type": "code",
   "execution_count": 94,
   "metadata": {},
   "outputs": [
    {
     "data": {
      "text/plain": [
       "(20, 11)"
      ]
     },
     "execution_count": 94,
     "metadata": {},
     "output_type": "execute_result"
    }
   ],
   "source": [
    "coffee.shape"
   ]
  },
  {
   "cell_type": "code",
   "execution_count": 95,
   "metadata": {},
   "outputs": [
    {
     "data": {
      "text/plain": [
       "Index(['Timestamp', 'Name', 'Starbucks', 'PhilzCoffee', 'BlueBottleCoffee',\n",
       "       'PeetsTea', 'CaffeTrieste', 'GrandCoffee', 'RitualCoffee', 'FourBarrel',\n",
       "       'WorkshopCafe'],\n",
       "      dtype='object')"
      ]
     },
     "execution_count": 95,
     "metadata": {},
     "output_type": "execute_result"
    }
   ],
   "source": [
    "coffee.columns"
   ]
  },
  {
   "cell_type": "markdown",
   "metadata": {},
   "source": [
    "The index is set as numerical values from 0 to 20. "
   ]
  },
  {
   "cell_type": "code",
   "execution_count": 96,
   "metadata": {},
   "outputs": [
    {
     "data": {
      "text/plain": [
       "RangeIndex(start=0, stop=20, step=1)"
      ]
     },
     "execution_count": 96,
     "metadata": {},
     "output_type": "execute_result"
    }
   ],
   "source": [
    "coffee.index"
   ]
  },
  {
   "cell_type": "markdown",
   "metadata": {},
   "source": [
    "Let's drop the \"Timestamp\" column, as it's not particularly useful for our analysis... "
   ]
  },
  {
   "cell_type": "code",
   "execution_count": 113,
   "metadata": {},
   "outputs": [],
   "source": [
    "coffee=coffee.drop(labels='Timestamp', axis=1)"
   ]
  },
  {
   "cell_type": "markdown",
   "metadata": {},
   "source": [
    "...and let's reset the index to the \"Name\" column. "
   ]
  },
  {
   "cell_type": "code",
   "execution_count": 114,
   "metadata": {},
   "outputs": [],
   "source": [
    "coffee.set_index('Name', inplace=True)"
   ]
  },
  {
   "cell_type": "markdown",
   "metadata": {},
   "source": [
    "Taking a look at the datatypes of the columns: It's interesting that some of the columns are integers and some are floats. Below, let's change Starbucks and Philz to floats as well. We can do this by changing the entire dataframe to floats. "
   ]
  },
  {
   "cell_type": "code",
   "execution_count": 22,
   "metadata": {},
   "outputs": [
    {
     "data": {
      "text/plain": [
       "Starbucks             int64\n",
       "PhilzCoffee           int64\n",
       "BlueBottleCoffee    float64\n",
       "PeetsTea            float64\n",
       "CaffeTrieste        float64\n",
       "GrandCoffee         float64\n",
       "RitualCoffee        float64\n",
       "FourBarrel          float64\n",
       "WorkshopCafe        float64\n",
       "dtype: object"
      ]
     },
     "execution_count": 22,
     "metadata": {},
     "output_type": "execute_result"
    }
   ],
   "source": [
    "coffee.dtypes"
   ]
  },
  {
   "cell_type": "code",
   "execution_count": 115,
   "metadata": {},
   "outputs": [],
   "source": [
    "coffee = coffee.astype('float')"
   ]
  },
  {
   "cell_type": "code",
   "execution_count": 100,
   "metadata": {},
   "outputs": [
    {
     "data": {
      "text/plain": [
       "Starbucks           float64\n",
       "PhilzCoffee         float64\n",
       "BlueBottleCoffee    float64\n",
       "PeetsTea            float64\n",
       "CaffeTrieste        float64\n",
       "GrandCoffee         float64\n",
       "RitualCoffee        float64\n",
       "FourBarrel          float64\n",
       "WorkshopCafe        float64\n",
       "dtype: object"
      ]
     },
     "execution_count": 100,
     "metadata": {},
     "output_type": "execute_result"
    }
   ],
   "source": [
    "coffee.dtypes"
   ]
  },
  {
   "cell_type": "markdown",
   "metadata": {},
   "source": [
    "Now, let's take a look at and tackle the null values. At first glance, we can see there appear to be a significant amount of null values in the dataset. "
   ]
  },
  {
   "cell_type": "code",
   "execution_count": 101,
   "metadata": {},
   "outputs": [
    {
     "data": {
      "text/html": [
       "<div>\n",
       "<style scoped>\n",
       "    .dataframe tbody tr th:only-of-type {\n",
       "        vertical-align: middle;\n",
       "    }\n",
       "\n",
       "    .dataframe tbody tr th {\n",
       "        vertical-align: top;\n",
       "    }\n",
       "\n",
       "    .dataframe thead th {\n",
       "        text-align: right;\n",
       "    }\n",
       "</style>\n",
       "<table border=\"1\" class=\"dataframe\">\n",
       "  <thead>\n",
       "    <tr style=\"text-align: right;\">\n",
       "      <th></th>\n",
       "      <th>Starbucks</th>\n",
       "      <th>PhilzCoffee</th>\n",
       "      <th>BlueBottleCoffee</th>\n",
       "      <th>PeetsTea</th>\n",
       "      <th>CaffeTrieste</th>\n",
       "      <th>GrandCoffee</th>\n",
       "      <th>RitualCoffee</th>\n",
       "      <th>FourBarrel</th>\n",
       "      <th>WorkshopCafe</th>\n",
       "    </tr>\n",
       "    <tr>\n",
       "      <th>Name</th>\n",
       "      <th></th>\n",
       "      <th></th>\n",
       "      <th></th>\n",
       "      <th></th>\n",
       "      <th></th>\n",
       "      <th></th>\n",
       "      <th></th>\n",
       "      <th></th>\n",
       "      <th></th>\n",
       "    </tr>\n",
       "  </thead>\n",
       "  <tbody>\n",
       "    <tr>\n",
       "      <th>Alison</th>\n",
       "      <td>False</td>\n",
       "      <td>False</td>\n",
       "      <td>False</td>\n",
       "      <td>False</td>\n",
       "      <td>True</td>\n",
       "      <td>True</td>\n",
       "      <td>False</td>\n",
       "      <td>False</td>\n",
       "      <td>True</td>\n",
       "    </tr>\n",
       "    <tr>\n",
       "      <th>April</th>\n",
       "      <td>False</td>\n",
       "      <td>False</td>\n",
       "      <td>False</td>\n",
       "      <td>False</td>\n",
       "      <td>True</td>\n",
       "      <td>True</td>\n",
       "      <td>False</td>\n",
       "      <td>True</td>\n",
       "      <td>False</td>\n",
       "    </tr>\n",
       "    <tr>\n",
       "      <th>Vijay</th>\n",
       "      <td>False</td>\n",
       "      <td>False</td>\n",
       "      <td>False</td>\n",
       "      <td>False</td>\n",
       "      <td>False</td>\n",
       "      <td>False</td>\n",
       "      <td>False</td>\n",
       "      <td>False</td>\n",
       "      <td>False</td>\n",
       "    </tr>\n",
       "    <tr>\n",
       "      <th>Vanessa</th>\n",
       "      <td>False</td>\n",
       "      <td>False</td>\n",
       "      <td>False</td>\n",
       "      <td>False</td>\n",
       "      <td>True</td>\n",
       "      <td>True</td>\n",
       "      <td>False</td>\n",
       "      <td>False</td>\n",
       "      <td>False</td>\n",
       "    </tr>\n",
       "    <tr>\n",
       "      <th>Isabel</th>\n",
       "      <td>False</td>\n",
       "      <td>False</td>\n",
       "      <td>False</td>\n",
       "      <td>False</td>\n",
       "      <td>False</td>\n",
       "      <td>True</td>\n",
       "      <td>False</td>\n",
       "      <td>False</td>\n",
       "      <td>True</td>\n",
       "    </tr>\n",
       "    <tr>\n",
       "      <th>India</th>\n",
       "      <td>False</td>\n",
       "      <td>False</td>\n",
       "      <td>False</td>\n",
       "      <td>False</td>\n",
       "      <td>False</td>\n",
       "      <td>False</td>\n",
       "      <td>True</td>\n",
       "      <td>True</td>\n",
       "      <td>False</td>\n",
       "    </tr>\n",
       "    <tr>\n",
       "      <th>Dave H</th>\n",
       "      <td>False</td>\n",
       "      <td>False</td>\n",
       "      <td>True</td>\n",
       "      <td>False</td>\n",
       "      <td>True</td>\n",
       "      <td>True</td>\n",
       "      <td>True</td>\n",
       "      <td>True</td>\n",
       "      <td>True</td>\n",
       "    </tr>\n",
       "    <tr>\n",
       "      <th>Deepthi</th>\n",
       "      <td>False</td>\n",
       "      <td>False</td>\n",
       "      <td>True</td>\n",
       "      <td>False</td>\n",
       "      <td>True</td>\n",
       "      <td>True</td>\n",
       "      <td>True</td>\n",
       "      <td>True</td>\n",
       "      <td>False</td>\n",
       "    </tr>\n",
       "    <tr>\n",
       "      <th>Ramesh</th>\n",
       "      <td>False</td>\n",
       "      <td>False</td>\n",
       "      <td>True</td>\n",
       "      <td>False</td>\n",
       "      <td>True</td>\n",
       "      <td>True</td>\n",
       "      <td>True</td>\n",
       "      <td>True</td>\n",
       "      <td>False</td>\n",
       "    </tr>\n",
       "    <tr>\n",
       "      <th>Hugh</th>\n",
       "      <td>False</td>\n",
       "      <td>False</td>\n",
       "      <td>False</td>\n",
       "      <td>False</td>\n",
       "      <td>False</td>\n",
       "      <td>False</td>\n",
       "      <td>False</td>\n",
       "      <td>False</td>\n",
       "      <td>False</td>\n",
       "    </tr>\n",
       "    <tr>\n",
       "      <th>Alex</th>\n",
       "      <td>False</td>\n",
       "      <td>False</td>\n",
       "      <td>True</td>\n",
       "      <td>False</td>\n",
       "      <td>True</td>\n",
       "      <td>True</td>\n",
       "      <td>True</td>\n",
       "      <td>True</td>\n",
       "      <td>True</td>\n",
       "    </tr>\n",
       "    <tr>\n",
       "      <th>Ajay Anand</th>\n",
       "      <td>False</td>\n",
       "      <td>False</td>\n",
       "      <td>False</td>\n",
       "      <td>False</td>\n",
       "      <td>False</td>\n",
       "      <td>True</td>\n",
       "      <td>True</td>\n",
       "      <td>True</td>\n",
       "      <td>True</td>\n",
       "    </tr>\n",
       "    <tr>\n",
       "      <th>David Feng</th>\n",
       "      <td>False</td>\n",
       "      <td>False</td>\n",
       "      <td>False</td>\n",
       "      <td>False</td>\n",
       "      <td>False</td>\n",
       "      <td>True</td>\n",
       "      <td>False</td>\n",
       "      <td>False</td>\n",
       "      <td>False</td>\n",
       "    </tr>\n",
       "    <tr>\n",
       "      <th>Zach</th>\n",
       "      <td>False</td>\n",
       "      <td>False</td>\n",
       "      <td>False</td>\n",
       "      <td>False</td>\n",
       "      <td>True</td>\n",
       "      <td>True</td>\n",
       "      <td>True</td>\n",
       "      <td>True</td>\n",
       "      <td>False</td>\n",
       "    </tr>\n",
       "    <tr>\n",
       "      <th>Matt</th>\n",
       "      <td>False</td>\n",
       "      <td>False</td>\n",
       "      <td>False</td>\n",
       "      <td>False</td>\n",
       "      <td>False</td>\n",
       "      <td>False</td>\n",
       "      <td>False</td>\n",
       "      <td>False</td>\n",
       "      <td>False</td>\n",
       "    </tr>\n",
       "    <tr>\n",
       "      <th>Markus</th>\n",
       "      <td>False</td>\n",
       "      <td>False</td>\n",
       "      <td>True</td>\n",
       "      <td>False</td>\n",
       "      <td>True</td>\n",
       "      <td>True</td>\n",
       "      <td>False</td>\n",
       "      <td>True</td>\n",
       "      <td>True</td>\n",
       "    </tr>\n",
       "    <tr>\n",
       "      <th>Otto</th>\n",
       "      <td>False</td>\n",
       "      <td>False</td>\n",
       "      <td>False</td>\n",
       "      <td>False</td>\n",
       "      <td>True</td>\n",
       "      <td>True</td>\n",
       "      <td>False</td>\n",
       "      <td>False</td>\n",
       "      <td>False</td>\n",
       "    </tr>\n",
       "    <tr>\n",
       "      <th>Alessandro</th>\n",
       "      <td>False</td>\n",
       "      <td>False</td>\n",
       "      <td>False</td>\n",
       "      <td>False</td>\n",
       "      <td>True</td>\n",
       "      <td>True</td>\n",
       "      <td>False</td>\n",
       "      <td>False</td>\n",
       "      <td>True</td>\n",
       "    </tr>\n",
       "    <tr>\n",
       "      <th>Rocky</th>\n",
       "      <td>False</td>\n",
       "      <td>False</td>\n",
       "      <td>False</td>\n",
       "      <td>False</td>\n",
       "      <td>False</td>\n",
       "      <td>False</td>\n",
       "      <td>False</td>\n",
       "      <td>False</td>\n",
       "      <td>False</td>\n",
       "    </tr>\n",
       "    <tr>\n",
       "      <th>Cheong-tseng</th>\n",
       "      <td>False</td>\n",
       "      <td>False</td>\n",
       "      <td>True</td>\n",
       "      <td>True</td>\n",
       "      <td>True</td>\n",
       "      <td>True</td>\n",
       "      <td>False</td>\n",
       "      <td>True</td>\n",
       "      <td>True</td>\n",
       "    </tr>\n",
       "  </tbody>\n",
       "</table>\n",
       "</div>"
      ],
      "text/plain": [
       "              Starbucks  PhilzCoffee  BlueBottleCoffee  PeetsTea  \\\n",
       "Name                                                               \n",
       "Alison            False        False             False     False   \n",
       "April             False        False             False     False   \n",
       "Vijay             False        False             False     False   \n",
       "Vanessa           False        False             False     False   \n",
       "Isabel            False        False             False     False   \n",
       "India             False        False             False     False   \n",
       "Dave H            False        False              True     False   \n",
       "Deepthi           False        False              True     False   \n",
       "Ramesh            False        False              True     False   \n",
       "Hugh              False        False             False     False   \n",
       "Alex              False        False              True     False   \n",
       "Ajay Anand        False        False             False     False   \n",
       "David Feng        False        False             False     False   \n",
       "Zach              False        False             False     False   \n",
       "Matt              False        False             False     False   \n",
       "Markus            False        False              True     False   \n",
       "Otto              False        False             False     False   \n",
       "Alessandro        False        False             False     False   \n",
       "Rocky             False        False             False     False   \n",
       "Cheong-tseng      False        False              True      True   \n",
       "\n",
       "              CaffeTrieste  GrandCoffee  RitualCoffee  FourBarrel  \\\n",
       "Name                                                                \n",
       "Alison                True         True         False       False   \n",
       "April                 True         True         False        True   \n",
       "Vijay                False        False         False       False   \n",
       "Vanessa               True         True         False       False   \n",
       "Isabel               False         True         False       False   \n",
       "India                False        False          True        True   \n",
       "Dave H                True         True          True        True   \n",
       "Deepthi               True         True          True        True   \n",
       "Ramesh                True         True          True        True   \n",
       "Hugh                 False        False         False       False   \n",
       "Alex                  True         True          True        True   \n",
       "Ajay Anand           False         True          True        True   \n",
       "David Feng           False         True         False       False   \n",
       "Zach                  True         True          True        True   \n",
       "Matt                 False        False         False       False   \n",
       "Markus                True         True         False        True   \n",
       "Otto                  True         True         False       False   \n",
       "Alessandro            True         True         False       False   \n",
       "Rocky                False        False         False       False   \n",
       "Cheong-tseng          True         True         False        True   \n",
       "\n",
       "              WorkshopCafe  \n",
       "Name                        \n",
       "Alison                True  \n",
       "April                False  \n",
       "Vijay                False  \n",
       "Vanessa              False  \n",
       "Isabel                True  \n",
       "India                False  \n",
       "Dave H                True  \n",
       "Deepthi              False  \n",
       "Ramesh               False  \n",
       "Hugh                 False  \n",
       "Alex                  True  \n",
       "Ajay Anand            True  \n",
       "David Feng           False  \n",
       "Zach                 False  \n",
       "Matt                 False  \n",
       "Markus                True  \n",
       "Otto                 False  \n",
       "Alessandro            True  \n",
       "Rocky                False  \n",
       "Cheong-tseng          True  "
      ]
     },
     "execution_count": 101,
     "metadata": {},
     "output_type": "execute_result"
    }
   ],
   "source": [
    "coffee.isnull()"
   ]
  },
  {
   "cell_type": "code",
   "execution_count": 129,
   "metadata": {},
   "outputs": [
    {
     "data": {
      "text/plain": [
       "Starbucks            0\n",
       "PhilzCoffee          0\n",
       "BlueBottleCoffee     6\n",
       "PeetsTea             1\n",
       "CaffeTrieste        12\n",
       "GrandCoffee         15\n",
       "RitualCoffee         7\n",
       "FourBarrel          10\n",
       "WorkshopCafe         8\n",
       "dtype: int64"
      ]
     },
     "execution_count": 129,
     "metadata": {},
     "output_type": "execute_result"
    }
   ],
   "source": [
    "coffee.isnull().sum()"
   ]
  },
  {
   "cell_type": "markdown",
   "metadata": {},
   "source": [
    "Given that we only have 20 rows (19 respondents). So 15, 12 and 10 (GrandCoffee, CaffeTrieste and FourBarrel) are a signficant number of missing datapoints to justify dropping those columns. Let's save the revised data to \"coffee2\"."
   ]
  },
  {
   "cell_type": "code",
   "execution_count": 151,
   "metadata": {},
   "outputs": [],
   "source": [
    "coffee2=coffee.drop(columns=['CaffeTrieste', 'GrandCoffee', 'FourBarrel'])"
   ]
  },
  {
   "cell_type": "markdown",
   "metadata": {},
   "source": [
    "Let's take a look at the number of nulls again, this time by row. There are three respondents who have a count of 3 missing values each. Given that the sample is so small to begin with, I will opt to fill in the missing data with median values rather than delete these rows. I will also approach the remaining missing values in the columns in the same way. I'm choosing median values as opposed to 0, which could skew the rankings lower than intended, or averages, which are sensitive to outliers and could distort the rankings as well.  "
   ]
  },
  {
   "cell_type": "code",
   "execution_count": 152,
   "metadata": {},
   "outputs": [
    {
     "data": {
      "text/plain": [
       "Name\n",
       "Alison          1\n",
       "April           0\n",
       "Vijay           0\n",
       "Vanessa         0\n",
       "Isabel          1\n",
       "India           1\n",
       "Dave H          3\n",
       "Deepthi         2\n",
       "Ramesh          2\n",
       "Hugh            0\n",
       "Alex            3\n",
       "Ajay Anand      2\n",
       "David Feng      0\n",
       "Zach            1\n",
       "Matt            0\n",
       "Markus          2\n",
       "Otto            0\n",
       "Alessandro      1\n",
       "Rocky           0\n",
       "Cheong-tseng    3\n",
       "dtype: int64"
      ]
     },
     "execution_count": 152,
     "metadata": {},
     "output_type": "execute_result"
    }
   ],
   "source": [
    "coffee2.isnull().sum(axis=1)"
   ]
  },
  {
   "cell_type": "code",
   "execution_count": 153,
   "metadata": {},
   "outputs": [
    {
     "data": {
      "text/plain": [
       "Starbucks           0\n",
       "PhilzCoffee         0\n",
       "BlueBottleCoffee    6\n",
       "PeetsTea            1\n",
       "RitualCoffee        7\n",
       "WorkshopCafe        8\n",
       "dtype: int64"
      ]
     },
     "execution_count": 153,
     "metadata": {},
     "output_type": "execute_result"
    }
   ],
   "source": [
    "coffee2.isnull().sum()"
   ]
  },
  {
   "cell_type": "markdown",
   "metadata": {},
   "source": [
    "We replace all the remaining missing values with the median of that respective column using fillna."
   ]
  },
  {
   "cell_type": "code",
   "execution_count": 154,
   "metadata": {},
   "outputs": [],
   "source": [
    "coffee2=coffee2.fillna(value={'BlueBottleCoffee':coffee2['BlueBottleCoffee'].median(), 'PeetsTea':coffee2['PeetsTea'].median(),'RitualCoffee':coffee2['RitualCoffee'].median(), 'WorkshopCafe':coffee2['WorkshopCafe'].median()})"
   ]
  },
  {
   "cell_type": "markdown",
   "metadata": {},
   "source": [
    "Now that we have addressed the missing values, we can start to analyze the data. "
   ]
  },
  {
   "cell_type": "code",
   "execution_count": 155,
   "metadata": {},
   "outputs": [
    {
     "data": {
      "text/html": [
       "<div>\n",
       "<style scoped>\n",
       "    .dataframe tbody tr th:only-of-type {\n",
       "        vertical-align: middle;\n",
       "    }\n",
       "\n",
       "    .dataframe tbody tr th {\n",
       "        vertical-align: top;\n",
       "    }\n",
       "\n",
       "    .dataframe thead th {\n",
       "        text-align: right;\n",
       "    }\n",
       "</style>\n",
       "<table border=\"1\" class=\"dataframe\">\n",
       "  <thead>\n",
       "    <tr style=\"text-align: right;\">\n",
       "      <th></th>\n",
       "      <th>Starbucks</th>\n",
       "      <th>PhilzCoffee</th>\n",
       "      <th>BlueBottleCoffee</th>\n",
       "      <th>PeetsTea</th>\n",
       "      <th>RitualCoffee</th>\n",
       "      <th>WorkshopCafe</th>\n",
       "    </tr>\n",
       "  </thead>\n",
       "  <tbody>\n",
       "    <tr>\n",
       "      <th>count</th>\n",
       "      <td>20.000000</td>\n",
       "      <td>20.000000</td>\n",
       "      <td>20.000000</td>\n",
       "      <td>20.000000</td>\n",
       "      <td>20.000000</td>\n",
       "      <td>20.000000</td>\n",
       "    </tr>\n",
       "    <tr>\n",
       "      <th>mean</th>\n",
       "      <td>2.850000</td>\n",
       "      <td>4.250000</td>\n",
       "      <td>4.000000</td>\n",
       "      <td>3.100000</td>\n",
       "      <td>3.850000</td>\n",
       "      <td>2.950000</td>\n",
       "    </tr>\n",
       "    <tr>\n",
       "      <th>std</th>\n",
       "      <td>1.136708</td>\n",
       "      <td>1.164158</td>\n",
       "      <td>0.725476</td>\n",
       "      <td>0.967906</td>\n",
       "      <td>0.875094</td>\n",
       "      <td>0.998683</td>\n",
       "    </tr>\n",
       "    <tr>\n",
       "      <th>min</th>\n",
       "      <td>1.000000</td>\n",
       "      <td>1.000000</td>\n",
       "      <td>2.000000</td>\n",
       "      <td>2.000000</td>\n",
       "      <td>1.000000</td>\n",
       "      <td>1.000000</td>\n",
       "    </tr>\n",
       "    <tr>\n",
       "      <th>25%</th>\n",
       "      <td>2.750000</td>\n",
       "      <td>4.000000</td>\n",
       "      <td>4.000000</td>\n",
       "      <td>2.750000</td>\n",
       "      <td>4.000000</td>\n",
       "      <td>3.000000</td>\n",
       "    </tr>\n",
       "    <tr>\n",
       "      <th>50%</th>\n",
       "      <td>3.000000</td>\n",
       "      <td>5.000000</td>\n",
       "      <td>4.000000</td>\n",
       "      <td>3.000000</td>\n",
       "      <td>4.000000</td>\n",
       "      <td>3.000000</td>\n",
       "    </tr>\n",
       "    <tr>\n",
       "      <th>75%</th>\n",
       "      <td>3.250000</td>\n",
       "      <td>5.000000</td>\n",
       "      <td>4.000000</td>\n",
       "      <td>3.000000</td>\n",
       "      <td>4.000000</td>\n",
       "      <td>3.000000</td>\n",
       "    </tr>\n",
       "    <tr>\n",
       "      <th>max</th>\n",
       "      <td>5.000000</td>\n",
       "      <td>5.000000</td>\n",
       "      <td>5.000000</td>\n",
       "      <td>5.000000</td>\n",
       "      <td>5.000000</td>\n",
       "      <td>5.000000</td>\n",
       "    </tr>\n",
       "  </tbody>\n",
       "</table>\n",
       "</div>"
      ],
      "text/plain": [
       "       Starbucks  PhilzCoffee  BlueBottleCoffee   PeetsTea  RitualCoffee  \\\n",
       "count  20.000000    20.000000         20.000000  20.000000     20.000000   \n",
       "mean    2.850000     4.250000          4.000000   3.100000      3.850000   \n",
       "std     1.136708     1.164158          0.725476   0.967906      0.875094   \n",
       "min     1.000000     1.000000          2.000000   2.000000      1.000000   \n",
       "25%     2.750000     4.000000          4.000000   2.750000      4.000000   \n",
       "50%     3.000000     5.000000          4.000000   3.000000      4.000000   \n",
       "75%     3.250000     5.000000          4.000000   3.000000      4.000000   \n",
       "max     5.000000     5.000000          5.000000   5.000000      5.000000   \n",
       "\n",
       "       WorkshopCafe  \n",
       "count     20.000000  \n",
       "mean       2.950000  \n",
       "std        0.998683  \n",
       "min        1.000000  \n",
       "25%        3.000000  \n",
       "50%        3.000000  \n",
       "75%        3.000000  \n",
       "max        5.000000  "
      ]
     },
     "execution_count": 155,
     "metadata": {},
     "output_type": "execute_result"
    }
   ],
   "source": [
    "coffee2.describe()"
   ]
  },
  {
   "cell_type": "markdown",
   "metadata": {},
   "source": [
    "Looking at the summary statistics, we see Philz is the leader both in terms of average ranking and in terms of median ranking, followed by BlueBottle and Ritual. On average, Starbucks has the lowest ranking. The standard deviations are highest for Starbucks and Philz, indicating that the datapoints have a greater spread (i.e. greater distances from the mean, or in other words, more spread out rankings from respondents). \n",
    "\n",
    "We use three graphs to illustrate the key points of our analysis:\n",
    "\n",
    "**1. Average Ranking of Coffee Shops**\n",
    "\n",
    "This graph gives a clear picture of the highest and lowest ranked coffee shops in our cleaned dataset. \n",
    "\n",
    "**2. Boxplot Showing Spread of Opinions**\n",
    "\n",
    "This graph doesn't end up being visually appealing, and neither does it convey a clear message other than rankings show a large spread for all of the coffee shops. \n",
    "\n",
    "**3. Number of Respondents per Coffee Shop, before Null Replacements**\n",
    "\n",
    "This graph just serves to show the readers the content of the original dataset, to justify why we ended up excluding the three shops with the fewest number of respondents from our analysis. "
   ]
  },
  {
   "cell_type": "code",
   "execution_count": 156,
   "metadata": {},
   "outputs": [
    {
     "data": {
      "image/png": "[encoded data removed]",
      "text/plain": [
       "<Figure size 576x288 with 1 Axes>"
      ]
     },
     "metadata": {},
     "output_type": "display_data"
    }
   ],
   "source": [
    "coffee2.mean().sort_values(ascending=False).plot(kind='bar', figsize=(8,4), title=\"Average Ranking of Coffee Shops\")\n",
    "plt.xlabel(\"Coffee Shops\")\n",
    "plt.ylabel(\"Ranking\")\n",
    "plt.style.use('fivethirtyeight')"
   ]
  },
  {
   "cell_type": "code",
   "execution_count": 157,
   "metadata": {},
   "outputs": [
    {
     "data": {
      "text/plain": [
       "<matplotlib.axes._subplots.AxesSubplot at 0x1e807ab1588>"
      ]
     },
     "execution_count": 157,
     "metadata": {},
     "output_type": "execute_result"
    },
    {
     "data": {
      "image/png": "[encoded data removed]",
      "text/plain": [
       "<Figure size 720x288 with 1 Axes>"
      ]
     },
     "metadata": {},
     "output_type": "display_data"
    }
   ],
   "source": [
    "coffee2.plot(kind='box', figsize=(10,4), title=\"Spread of Opinions\")"
   ]
  },
  {
   "cell_type": "code",
   "execution_count": 161,
   "metadata": {},
   "outputs": [
    {
     "data": {
      "text/plain": [
       "<matplotlib.axes._subplots.AxesSubplot at 0x1e8092f5128>"
      ]
     },
     "execution_count": 161,
     "metadata": {},
     "output_type": "execute_result"
    },
    {
     "data": {
      "image/png": "[encoded data removed]",
      "text/plain": [
       "<Figure size 432x288 with 1 Axes>"
      ]
     },
     "metadata": {},
     "output_type": "display_data"
    }
   ],
   "source": [
    "coffee.count().sort_values().plot(kind='barh', title=\"Number of Respondents per Coffee Shop in Original Dataset\")"
   ]
  },
  {
   "cell_type": "code",
   "execution_count": null,
   "metadata": {},
   "outputs": [],
   "source": []
  }
 ],
 "metadata": {
  "kernelspec": {
   "display_name": "Python 3",
   "language": "python",
   "name": "python3"
  },
  "language_info": {
   "codemirror_mode": {
    "name": "ipython",
    "version": 3
   },
   "file_extension": ".py",
   "mimetype": "text/x-python",
   "name": "python",
   "nbconvert_exporter": "python",
   "pygments_lexer": "ipython3",
   "version": "3.6.8"
  }
 },
 "nbformat": 4,
 "nbformat_minor": 2
}
